{
  "nbformat": 4,
  "nbformat_minor": 0,
  "metadata": {
    "colab": {
      "name": "fish market.ipynb",
      "provenance": [],
      "collapsed_sections": [],
      "toc_visible": true,
      "authorship_tag": "ABX9TyOgGC/2uIfH0SCeqYKKnRXW",
      "include_colab_link": true
    },
    "kernelspec": {
      "name": "python3",
      "display_name": "Python 3"
    },
    "language_info": {
      "name": "python"
    }
  },
  "cells": [
    {
      "cell_type": "markdown",
      "metadata": {
        "id": "view-in-github",
        "colab_type": "text"
      },
      "source": [
        "<a href=\"https://colab.research.google.com/github/tulipgraceson/RUNTAJ/blob/master/fish_market.ipynb\" target=\"_parent\"><img src=\"https://colab.research.google.com/assets/colab-badge.svg\" alt=\"Open In Colab\"/></a>"
      ]
    },
    {
      "cell_type": "markdown",
      "metadata": {
        "id": "MyUS4pwUi50e"
      },
      "source": [
        "# FISH WEIGHT PREDICTION USING LINEAR REGRESSION "
      ]
    },
    {
      "cell_type": "code",
      "metadata": {
        "id": "ecvlbcGUdAuf"
      },
      "source": [
        "import numpy as np\n",
        "import pandas as pd\n",
        "import matplotlib.pyplot as plt"
      ],
      "execution_count": null,
      "outputs": []
    },
    {
      "cell_type": "markdown",
      "metadata": {
        "id": "Rf9gOoQqeQta"
      },
      "source": [
        "# DATA PRE PREPROCESSING\n"
      ]
    },
    {
      "cell_type": "code",
      "metadata": {
        "id": "kBn0c6lCegjr"
      },
      "source": [
        "fish = pd.read_csv(\"Fish.csv\")\n",
        "x = fish.iloc[:, fish.columns!='Weight'].values\n",
        "y = fish.iloc[:, 1].values                                    "
      ],
      "execution_count": null,
      "outputs": []
    },
    {
      "cell_type": "code",
      "metadata": {
        "colab": {
          "base_uri": "https://localhost:8080/"
        },
        "id": "FKawOvPipjex",
        "outputId": "b173aa0a-653b-4326-af62-ebad26547f64"
      },
      "source": [
        "print(type(x[[2]]))"
      ],
      "execution_count": null,
      "outputs": [
        {
          "output_type": "stream",
          "text": [
            "<class 'numpy.ndarray'>\n"
          ],
          "name": "stdout"
        }
      ]
    },
    {
      "cell_type": "code",
      "metadata": {
        "colab": {
          "base_uri": "https://localhost:8080/"
        },
        "id": "LhUxCJCwpzOm",
        "outputId": "fbec5916-e703-417c-c80a-ded2a47369f8"
      },
      "source": [
        "print(x[[1]])"
      ],
      "execution_count": null,
      "outputs": [
        {
          "output_type": "stream",
          "text": [
            "[['Bream' 24.0 26.3 31.2 12.48 4.3056]]\n"
          ],
          "name": "stdout"
        }
      ]
    },
    {
      "cell_type": "code",
      "metadata": {
        "colab": {
          "base_uri": "https://localhost:8080/"
        },
        "id": "kz_66aXZopxM",
        "outputId": "c5b59daf-cf40-40cb-9a3e-ce9e1969bde4"
      },
      "source": [
        "print(y)"
      ],
      "execution_count": null,
      "outputs": [
        {
          "output_type": "stream",
          "text": [
            "[ 242.   290.   340.   363.   430.   450.   500.   390.   450.   500.\n",
            "  475.   500.   500.   340.   600.   600.   700.   700.   610.   650.\n",
            "  575.   685.   620.   680.   700.   725.   720.   714.   850.  1000.\n",
            "  920.   955.   925.   975.   950.    40.    69.    78.    87.   120.\n",
            "    0.   110.   120.   150.   145.   160.   140.   160.   169.   161.\n",
            "  200.   180.   290.   272.   390.   270.   270.   306.   540.   800.\n",
            " 1000.    55.    60.    90.   120.   150.   140.   170.   145.   200.\n",
            "  273.   300.     5.9   32.    40.    51.5   70.   100.    78.    80.\n",
            "   85.    85.   110.   115.   125.   130.   120.   120.   130.   135.\n",
            "  110.   130.   150.   145.   150.   170.   225.   145.   188.   180.\n",
            "  197.   218.   300.   260.   265.   250.   250.   300.   320.   514.\n",
            "  556.   840.   685.   700.   700.   690.   900.   650.   820.   850.\n",
            "  900.  1015.   820.  1100.  1000.  1100.  1000.  1000.   200.   300.\n",
            "  300.   300.   430.   345.   456.   510.   540.   500.   567.   770.\n",
            "  950.  1250.  1600.  1550.  1650.     6.7    7.5    7.     9.7    9.8\n",
            "    8.7   10.     9.9    9.8   12.2   13.4   12.2   19.7   19.9]\n"
          ],
          "name": "stdout"
        }
      ]
    },
    {
      "cell_type": "code",
      "metadata": {
        "colab": {
          "base_uri": "https://localhost:8080/"
        },
        "id": "xfiCKOiMiMw0",
        "outputId": "3b0c100a-ea79-49cc-d515-4b355f829a31"
      },
      "source": [
        "fish.shape"
      ],
      "execution_count": null,
      "outputs": [
        {
          "output_type": "execute_result",
          "data": {
            "text/plain": [
              "(159, 7)"
            ]
          },
          "metadata": {
            "tags": []
          },
          "execution_count": 77
        }
      ]
    },
    {
      "cell_type": "code",
      "metadata": {
        "colab": {
          "base_uri": "https://localhost:8080/",
          "height": 204
        },
        "id": "7hN4cXxriSV0",
        "outputId": "9eb82971-1bb7-4776-afa7-6974396641e8"
      },
      "source": [
        "fish.head()"
      ],
      "execution_count": null,
      "outputs": [
        {
          "output_type": "execute_result",
          "data": {
            "text/html": [
              "<div>\n",
              "<style scoped>\n",
              "    .dataframe tbody tr th:only-of-type {\n",
              "        vertical-align: middle;\n",
              "    }\n",
              "\n",
              "    .dataframe tbody tr th {\n",
              "        vertical-align: top;\n",
              "    }\n",
              "\n",
              "    .dataframe thead th {\n",
              "        text-align: right;\n",
              "    }\n",
              "</style>\n",
              "<table border=\"1\" class=\"dataframe\">\n",
              "  <thead>\n",
              "    <tr style=\"text-align: right;\">\n",
              "      <th></th>\n",
              "      <th>Species</th>\n",
              "      <th>Weight</th>\n",
              "      <th>Length1</th>\n",
              "      <th>Length2</th>\n",
              "      <th>Length3</th>\n",
              "      <th>Height</th>\n",
              "      <th>Width</th>\n",
              "    </tr>\n",
              "  </thead>\n",
              "  <tbody>\n",
              "    <tr>\n",
              "      <th>0</th>\n",
              "      <td>Bream</td>\n",
              "      <td>242.0</td>\n",
              "      <td>23.2</td>\n",
              "      <td>25.4</td>\n",
              "      <td>30.0</td>\n",
              "      <td>11.5200</td>\n",
              "      <td>4.0200</td>\n",
              "    </tr>\n",
              "    <tr>\n",
              "      <th>1</th>\n",
              "      <td>Bream</td>\n",
              "      <td>290.0</td>\n",
              "      <td>24.0</td>\n",
              "      <td>26.3</td>\n",
              "      <td>31.2</td>\n",
              "      <td>12.4800</td>\n",
              "      <td>4.3056</td>\n",
              "    </tr>\n",
              "    <tr>\n",
              "      <th>2</th>\n",
              "      <td>Bream</td>\n",
              "      <td>340.0</td>\n",
              "      <td>23.9</td>\n",
              "      <td>26.5</td>\n",
              "      <td>31.1</td>\n",
              "      <td>12.3778</td>\n",
              "      <td>4.6961</td>\n",
              "    </tr>\n",
              "    <tr>\n",
              "      <th>3</th>\n",
              "      <td>Bream</td>\n",
              "      <td>363.0</td>\n",
              "      <td>26.3</td>\n",
              "      <td>29.0</td>\n",
              "      <td>33.5</td>\n",
              "      <td>12.7300</td>\n",
              "      <td>4.4555</td>\n",
              "    </tr>\n",
              "    <tr>\n",
              "      <th>4</th>\n",
              "      <td>Bream</td>\n",
              "      <td>430.0</td>\n",
              "      <td>26.5</td>\n",
              "      <td>29.0</td>\n",
              "      <td>34.0</td>\n",
              "      <td>12.4440</td>\n",
              "      <td>5.1340</td>\n",
              "    </tr>\n",
              "  </tbody>\n",
              "</table>\n",
              "</div>"
            ],
            "text/plain": [
              "  Species  Weight  Length1  Length2  Length3   Height   Width\n",
              "0   Bream   242.0     23.2     25.4     30.0  11.5200  4.0200\n",
              "1   Bream   290.0     24.0     26.3     31.2  12.4800  4.3056\n",
              "2   Bream   340.0     23.9     26.5     31.1  12.3778  4.6961\n",
              "3   Bream   363.0     26.3     29.0     33.5  12.7300  4.4555\n",
              "4   Bream   430.0     26.5     29.0     34.0  12.4440  5.1340"
            ]
          },
          "metadata": {
            "tags": []
          },
          "execution_count": 78
        }
      ]
    },
    {
      "cell_type": "code",
      "metadata": {
        "colab": {
          "base_uri": "https://localhost:8080/"
        },
        "id": "kc8xUVdAihrj",
        "outputId": "67cf4525-cb0b-4bb1-e09d-b1490df2902c"
      },
      "source": [
        "fish.info()"
      ],
      "execution_count": null,
      "outputs": [
        {
          "output_type": "stream",
          "text": [
            "<class 'pandas.core.frame.DataFrame'>\n",
            "RangeIndex: 159 entries, 0 to 158\n",
            "Data columns (total 7 columns):\n",
            " #   Column   Non-Null Count  Dtype  \n",
            "---  ------   --------------  -----  \n",
            " 0   Species  159 non-null    object \n",
            " 1   Weight   159 non-null    float64\n",
            " 2   Length1  159 non-null    float64\n",
            " 3   Length2  159 non-null    float64\n",
            " 4   Length3  159 non-null    float64\n",
            " 5   Height   159 non-null    float64\n",
            " 6   Width    159 non-null    float64\n",
            "dtypes: float64(6), object(1)\n",
            "memory usage: 8.8+ KB\n"
          ],
          "name": "stdout"
        }
      ]
    },
    {
      "cell_type": "code",
      "metadata": {
        "colab": {
          "base_uri": "https://localhost:8080/"
        },
        "id": "ztKMcFkglWfQ",
        "outputId": "75da37c3-488f-4853-d23b-b667a4cf1d50"
      },
      "source": [
        "fish.isnull().sum()\n"
      ],
      "execution_count": null,
      "outputs": [
        {
          "output_type": "execute_result",
          "data": {
            "text/plain": [
              "Species    0\n",
              "Weight     0\n",
              "Length1    0\n",
              "Length2    0\n",
              "Length3    0\n",
              "Height     0\n",
              "Width      0\n",
              "dtype: int64"
            ]
          },
          "metadata": {
            "tags": []
          },
          "execution_count": 80
        }
      ]
    },
    {
      "cell_type": "markdown",
      "metadata": {
        "id": "eMRkc0c2fpeD"
      },
      "source": [
        "# encoding the categorical data"
      ]
    },
    {
      "cell_type": "code",
      "metadata": {
        "id": "J0x8rIo5fvSV",
        "colab": {
          "base_uri": "https://localhost:8080/"
        },
        "outputId": "66f08758-bc7b-4796-a574-1b20391f3ab9"
      },
      "source": [
        "from sklearn.compose import ColumnTransformer\n",
        "from sklearn.preprocessing import OneHotEncoder\n",
        "ct=ColumnTransformer(transformers=[('encoder',OneHotEncoder(),[0])],remainder=\"passthrough\")\n",
        "x = np.array(ct.fit_transform(x))\n",
        "print(x)\n"
      ],
      "execution_count": null,
      "outputs": [
        {
          "output_type": "stream",
          "text": [
            "[[1.0 0.0 0.0 ... 30.0 11.52 4.02]\n",
            " [1.0 0.0 0.0 ... 31.2 12.48 4.3056]\n",
            " [1.0 0.0 0.0 ... 31.1 12.3778 4.6961]\n",
            " ...\n",
            " [0.0 0.0 0.0 ... 13.8 2.2769999999999997 1.2558]\n",
            " [0.0 0.0 0.0 ... 15.2 2.8728 2.0672]\n",
            " [0.0 0.0 0.0 ... 16.2 2.9322 1.8792]]\n"
          ],
          "name": "stdout"
        }
      ]
    },
    {
      "cell_type": "code",
      "metadata": {
        "colab": {
          "base_uri": "https://localhost:8080/"
        },
        "id": "kPZKti7DuKhP",
        "outputId": "a4c24667-28ba-4da3-ef0e-0baf1ddb6bd6"
      },
      "source": [
        "print(y)"
      ],
      "execution_count": null,
      "outputs": [
        {
          "output_type": "stream",
          "text": [
            "[ 242.   290.   340.   363.   430.   450.   500.   390.   450.   500.\n",
            "  475.   500.   500.   340.   600.   600.   700.   700.   610.   650.\n",
            "  575.   685.   620.   680.   700.   725.   720.   714.   850.  1000.\n",
            "  920.   955.   925.   975.   950.    40.    69.    78.    87.   120.\n",
            "    0.   110.   120.   150.   145.   160.   140.   160.   169.   161.\n",
            "  200.   180.   290.   272.   390.   270.   270.   306.   540.   800.\n",
            " 1000.    55.    60.    90.   120.   150.   140.   170.   145.   200.\n",
            "  273.   300.     5.9   32.    40.    51.5   70.   100.    78.    80.\n",
            "   85.    85.   110.   115.   125.   130.   120.   120.   130.   135.\n",
            "  110.   130.   150.   145.   150.   170.   225.   145.   188.   180.\n",
            "  197.   218.   300.   260.   265.   250.   250.   300.   320.   514.\n",
            "  556.   840.   685.   700.   700.   690.   900.   650.   820.   850.\n",
            "  900.  1015.   820.  1100.  1000.  1100.  1000.  1000.   200.   300.\n",
            "  300.   300.   430.   345.   456.   510.   540.   500.   567.   770.\n",
            "  950.  1250.  1600.  1550.  1650.     6.7    7.5    7.     9.7    9.8\n",
            "    8.7   10.     9.9    9.8   12.2   13.4   12.2   19.7   19.9]\n"
          ],
          "name": "stdout"
        }
      ]
    },
    {
      "cell_type": "code",
      "metadata": {
        "colab": {
          "base_uri": "https://localhost:8080/"
        },
        "id": "cXR0GagThhHi",
        "outputId": "d547bb60-cb55-48c1-bcfe-bfdba0a9295c"
      },
      "source": [
        "print(x)"
      ],
      "execution_count": null,
      "outputs": [
        {
          "output_type": "stream",
          "text": [
            "[[1.0 0.0 0.0 ... 30.0 11.52 4.02]\n",
            " [1.0 0.0 0.0 ... 31.2 12.48 4.3056]\n",
            " [1.0 0.0 0.0 ... 31.1 12.3778 4.6961]\n",
            " ...\n",
            " [0.0 0.0 0.0 ... 13.8 2.2769999999999997 1.2558]\n",
            " [0.0 0.0 0.0 ... 15.2 2.8728 2.0672]\n",
            " [0.0 0.0 0.0 ... 16.2 2.9322 1.8792]]\n"
          ],
          "name": "stdout"
        }
      ]
    },
    {
      "cell_type": "markdown",
      "metadata": {
        "id": "WGeEJY1XqDsr"
      },
      "source": [
        "# SPLITTING THE DATASET"
      ]
    },
    {
      "cell_type": "code",
      "metadata": {
        "id": "OtoAvGhNqHjh"
      },
      "source": [
        "from sklearn.model_selection import train_test_split\n",
        "x_train,x_test,y_train,y_test = train_test_split(x,y, test_size = 0.2, random_state = 0)\n"
      ],
      "execution_count": null,
      "outputs": []
    },
    {
      "cell_type": "markdown",
      "metadata": {
        "id": "WM0qDWDyrZE0"
      },
      "source": [
        "# training"
      ]
    },
    {
      "cell_type": "code",
      "metadata": {
        "colab": {
          "base_uri": "https://localhost:8080/"
        },
        "id": "aGAIrjUdqa3m",
        "outputId": "05fe2e5e-ce8d-4f2c-ab72-cb652daac7c4"
      },
      "source": [
        "from sklearn.linear_model import LinearRegression\n",
        "lr = LinearRegression()\n",
        "lr.fit(x_train,y_train)"
      ],
      "execution_count": null,
      "outputs": [
        {
          "output_type": "execute_result",
          "data": {
            "text/plain": [
              "LinearRegression(copy_X=True, fit_intercept=True, n_jobs=None, normalize=False)"
            ]
          },
          "metadata": {
            "tags": []
          },
          "execution_count": 85
        }
      ]
    },
    {
      "cell_type": "code",
      "metadata": {
        "colab": {
          "base_uri": "https://localhost:8080/"
        },
        "id": "KtVdM00qrc5v",
        "outputId": "c8fe3ee9-d39c-4ab9-ec6a-b132d3d33efd"
      },
      "source": [
        "y_pred = lr.predict(x_test)\n",
        "np.set_printoptions(precision=1)\n",
        "print(np.concatenate((y_pred.reshape(len(y_pred),1),y_test.reshape(len(y_test),1)),1))"
      ],
      "execution_count": null,
      "outputs": [
        {
          "output_type": "stream",
          "text": [
            "[[ 428.9  390. ]\n",
            " [  98.1    0. ]\n",
            " [ 216.7  170. ]\n",
            " [ 208.7  160. ]\n",
            " [ 657.2  556. ]\n",
            " [ 876.4  900. ]\n",
            " [ 666.   800. ]\n",
            " [ 407.3  300. ]\n",
            " [ 965.7  975. ]\n",
            " [ 146.6  115. ]\n",
            " [ 255.2  200. ]\n",
            " [ 561.6  456. ]\n",
            " [ 765.7 1000. ]\n",
            " [1012.4 1000. ]\n",
            " [-118.7   60. ]\n",
            " [  14.5   78. ]\n",
            " [ 137.6  145. ]\n",
            " [1155.5 1600. ]\n",
            " [ 171.   130. ]\n",
            " [ 724.9  720. ]\n",
            " [-128.5   55. ]\n",
            " [ 525.5  390. ]\n",
            " [ 175.4  120. ]\n",
            " [1322.7 1650. ]\n",
            " [ -23.1   90. ]\n",
            " [ 475.4  450. ]\n",
            " [ 720.   700. ]\n",
            " [ 280.9  270. ]\n",
            " [ 885.1  850. ]\n",
            " [ -16.6    9.7]\n",
            " [ 585.3  650. ]\n",
            " [ 164.2  110. ]]\n"
          ],
          "name": "stdout"
        }
      ]
    },
    {
      "cell_type": "markdown",
      "metadata": {
        "id": "nRnuhLSGi0hD"
      },
      "source": [
        ""
      ]
    }
  ]
}